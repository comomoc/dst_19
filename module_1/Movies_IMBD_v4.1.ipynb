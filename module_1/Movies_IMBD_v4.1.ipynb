import numpy as np
import pandas as pd
import seaborn as sns
import matplotlib.pyplot as plt
from itertools import combinations 
from collections import Counter

data = pd.read_csv('movie_bd_v5.csv')
data.sample(5)

data.describe()

# Предобработка

answers = {'1': '723. Pirates of the Caribbean: On Stranger Tides (tt1298650)', 
           '2': '1157. Gods and Generals (tt0279111)'
           '3': '768. Winnie the Pooh (tt1449283)'
           '4': '110.0'
           '5': '107.0'
           '6': '239. Avatar (tt0499549)'
           '7': '1245. The Lone Ranger (tt1210819)'
           '8': '1478'
           '9': '599. The Dark Knight (tt0468569)'
           '10': '1245. The Lone Ranger (tt1210819)'
           '11': 'Drama'
           '12': 'Drama'
           '13': 'Peter Jackson'
           '14': 'Robert Rodriguez'
           '15': 'Chris Hemsworth'
           '16': 'Matt Damon'
           '17': 'Action'
           '18': 'K-19: The Widowmaker'
           '19': '2015'
           '20': '2014'
           '21': 'Сентябрь'
           '22': '450'
           '23': 'Peter Jackson'
           '24': 'Four By Two Productions'
           '25': 'Midnight Picture Show'
           '26': 'Inside Out, The Dark Knight, 12 Years a Slave'
           '27': 'Daniel Radcliffe, Rupert Grint'
           } 
# создадим словарь для ответов

# тут другие ваши предобработки колонок например:

#the time given in the dataset is in string format.
#So we need to change this in datetime format
# ...

# 1. У какого фильма из списка самый большой бюджет?

Использовать варианты ответов в коде решения запрещено.    
Вы думаете и в жизни у вас будут варианты ответов?)

# в словарь вставляем номер вопроса и ваш ответ на него
# Пример: 
answers['1'] = '2. Spider-Man 3 (tt0413300)'
# запишите свой вариант ответа
answers['1'] = '723. Pirates of the Caribbean: On Stranger Tides (tt1298650)'
# если ответили верно, можете добавить комментарий со значком "+"

# тут пишем ваш код для решения данного вопроса:
data[data.budget==data.budget.max()]

ВАРИАНТ 2

data.query('budget==budget.max()')

# 2. Какой из фильмов самый длительный (в минутах)?

# думаю логику работы с этим словарем вы уже поняли, 
# по этому не буду больше его дублировать
answers['2'] = '1157. Gods and Generals (tt0279111)'
# "+"

data.query('runtime==runtime.max()')

# 3. Какой из фильмов самый короткий (в минутах)?





answers['3'] = '768. Winnie the Pooh (tt1449283)'
# "+"

data.query('runtime==runtime.min()')

# 4. Какова средняя длительность фильмов?


110.0
# "+"

round(data.runtime.mean(), 0)

# 5. Каково медианное значение длительности фильмов? 

107.0
# "+"

data.runtime.median()

# 6. Какой самый прибыльный фильм?
#### Внимание! Здесь и далее под «прибылью» или «убытками» понимается разность между сборами и бюджетом фильма. (прибыль = сборы - бюджет) в нашем датасете это будет (profit = revenue - budget) 

answers['6'] = '239. Avatar (tt0499549)'
# "+"

data['profit'] = data.revenue-data.budget
data.original_title[data.profit == data.profit.max()]

# 7. Какой фильм самый убыточный? 

answers['7'] = '1245. The Lone Ranger (tt1210819)'
# "+"

data.profit = data.revenue-data.budget
data.original_title[data.profit == data.profit.min()]

# 8. У скольких фильмов из датасета объем сборов оказался выше бюджета?

answers['8'] = '1478'
# "+"

len(data[data.revenue > data.budget])

# 9. Какой фильм оказался самым кассовым в 2008 году?

answers['9'] = '599. The Dark Knight (tt0468569)'
# "+"

data[data.release_year==2008].sort_values(['revenue'], ascending=False).head(1)

# 10. Самый убыточный фильм за период с 2012 по 2014 г. (включительно)?


answers['10'] = '1245. The Lone Ranger (tt1210819)'
# "+"

data.profit = data.revenue-data.budget
data[(data.release_year>=2012)&(data.release_year<=2014)].sort_values(['profit'], ascending=True).head(1)

# 11. Какого жанра фильмов больше всего?

# эту задачу тоже можно решать разными подходами, попробуй реализовать разные варианты
# если будешь добавлять функцию - выноси ее в предобработку что в начале
answers['11'] = 'Drama'
# "+"

c = Counter()

for s in data.genres:
    for name in s.split('|'):
        c[name] += 1
print(c.most_common(1))

ВАРИАНТ 2

pd.DataFrame(data.genres.str.split('|').tolist()).stack().value_counts().head(1)

# 12. Фильмы какого жанра чаще всего становятся прибыльными? 

answers['12'] = 'Drama'
# "+"

pd.DataFrame(data[data.profit > 0].genres.str.split('|').tolist()).stack().value_counts().head(1)

# 13. У какого режиссера самые большие суммарные кассовые сбооры?

answers['13'] = 'Peter Jackson'
# "+"

c = Counter()

for s, row in data.iterrows():
    names = row.director.split('|')
    for name in names:
        c[name] += row.profit

print(c.most_common(1))

# 14. Какой режисер снял больше всего фильмов в стиле Action?

answers['14'] = 'Robert Rodriguez'
# "+"

c = Counter()

for i in data.loc[data['genres'].str.contains('Action')].director.str.split('|'):
    c += Counter(i)
    
print(c.most_common(1))

# 15. Фильмы с каким актером принесли самые высокие кассовые сборы в 2012 году? 

answers['15'] = 'Chris Hemsworth'
# "+"

c = Counter()

for i, row in (data[data['release_year'] == 2012]).iterrows():
    names = row.cast.split('|')
    for name in names:
        c[name] += row.revenue

print(c.most_common(1))

# 16. Какой актер снялся в большем количестве высокобюджетных фильмов?

answers['16'] = 'Matt Damon'
# "+"

c = Counter()

for i in data.loc[data.budget > data.budget.mean()].cast.str.split('|'):
    c += Counter(i)

print(c.most_common(1))

# 17. В фильмах какого жанра больше всего снимался Nicolas Cage? 

answers['17'] = 'Action'
# "+"

c = Counter()
for i in data.loc[data['cast'].str.contains('Nicolas Cage')].genres.str.split('|'):
    c += Counter(i)

print(c.most_common(1))

# 18. Самый убыточный фильм от Paramount Pictures

answers['18'] = '925. K-19: The Widowmaker (tt0267626)'
# "+"

data[data.profit == data.loc[data['production_companies'].str.contains('Paramount')].profit.min()].original_title

# 19. Какой год стал самым успешным по суммарным кассовым сборам?

answers['19'] = '2015'
# "+"

data.groupby(['release_year'])['revenue'].sum().sort_values(ascending=False).head(1)

# 20. Какой самый прибыльный год для студии Warner Bros?

answers['20'] = '2014'
# "+"

data_tmp = data[data.production_companies.str.contains('Warner Bros')]
data_tmp.groupby(by = ['release_year'])['profit'].sum().sort_values(ascending=False).head(1)

# 21. В каком месяце за все годы суммарно вышло больше всего фильмов?

answers['21'] = 'Сентябрь'
# "+"

data['release_date'] = pd.to_datetime(data['release_date'])
pd.DatetimeIndex(data['release_date']).month.value_counts().sort_values(ascending=False).head(1)

# 22. Сколько суммарно вышло фильмов летом? (за июнь, июль, август)

answers['22'] = '450'
# "+"

data['release_date'] = pd.to_datetime(data['release_date'])
data['month'] = pd.DatetimeIndex(data['release_date']).month
data_summer = data[(data.month > 5)&(data.month < 9)]
len(data_summer)

# 23. Для какого режиссера зима – самое продуктивное время года? 

answers['23'] = 'Peter Jackson'
# "+"

data['release_date'] = pd.to_datetime(data['release_date'])
data['month'] = pd.DatetimeIndex(data['release_date']).month
data_winter = data[(data.month <= 2) | (data.month == 12)]
pd.DataFrame(data_winter.director.str.split('|').tolist()).stack().value_counts(ascending=False).head(1)

# 24. Какая студия дает самые длинные названия своим фильмам по количеству символов?

answers['24'] = 'Four By Two Productions'
# "+"

data['title_length'] = data['original_title'].map(lambda x: len(x))
all_cast=pd.DataFrame(data.production_companies.str.split('|', expand=True).stack(), columns=['production_companies']).reset_index()
rr=pd.merge(all_cast,data.title_length.reset_index(), left_on=['level_0'], right_on=['index'], how='left')
rr.groupby('production_companies')['title_length'].mean().sort_values(ascending=False).head(1)

# 25. Описание фильмов какой студии в среднем самые длинные по количеству слов?

answers['25'] = 'Midnight Picture Show'
# "+"

def get_df(data,col_basic,*columns):
    df_new = pd.DataFrame(data[col_basic].str.split('|').tolist()).stack().reset_index()
    df_new.columns = ['row_index','row2',col_basic]
    for col in columns:
        df_new[col] = df_new.row_index.apply(lambda x : data.iloc[x][col])
    return df_new  

df_temp = get_df(data,'production_companies','overview')
df_temp['len_overview'] = df_temp['overview'].apply(lambda x : len(x))
df_temp.groupby('production_companies')['len_overview'].mean().sort_values(ascending = False).head(1)

# 26. Какие фильмы входят в 1 процент лучших по рейтингу? 
по vote_average

answers['26'] = 'Inside Out, The Dark Knight, 12 Years a Slave'
# "+"

s = data.sort_values(by='vote_average', ascending=False).loc[data['vote_average'] >= data['vote_average'].quantile(0.99)]
display(s).head(10)

# 27. Какие актеры чаще всего снимаются в одном фильме вместе?


answers['27'] = 'Daniel Radcliffe, Rupert Grint'
# "+"

c = Counter()
data_cast = pd.DataFrame(data.cast.str.split('|', expand=True).stack(), columns=['cast'])
for i in range(len(data)):
    com = data.loc[i]['cast'].split('|')
    a = list(combinations(com, 2))
    c += Counter(a)
print(c.most_common(1))

# Submission

# в конце можно посмотреть свои ответы к каждому вопросу
answers

# и убедиться что ни чего не пропустил)
len(answers)
